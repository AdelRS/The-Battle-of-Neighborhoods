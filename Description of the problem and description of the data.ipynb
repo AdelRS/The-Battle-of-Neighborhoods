{
 "cells": [
  {
   "cell_type": "markdown",
   "metadata": {},
   "source": [
    "<h1>Description of the problem</h1>"
   ]
  },
  {
   "cell_type": "markdown",
   "metadata": {},
   "source": [
    "<h3>A new vegan restaurant in Madrid:</h3>"
   ]
  },
  {
   "cell_type": "code",
   "execution_count": 1,
   "metadata": {},
   "outputs": [],
   "source": [
    "from IPython.display import Image\n",
    "from IPython.core.display import HTML "
   ]
  },
  {
   "cell_type": "markdown",
   "metadata": {},
   "source": [
    "<a><img src = \"https://www.fireal.co.uk/wp-content/uploads/2014/04/curryquornbanner.jpg\" width = 800> </a>"
   ]
  },
  {
   "cell_type": "markdown",
   "metadata": {},
   "source": [
    "Food is a frequent topic of conversation, and in recent years there has been an increasing number of initiatives around it: trade shows, fairs, television programs and competitions, thematic channels, specialized magazines, etc.\n",
    "\n",
    "Undoubtedly, setting up a restaurant has great attractions. Properly managed and with a good public relations policy, it can become a new option in the local leisure scene. Today more than ever, the profession of chef is especially valued and, if our skills are mainly culinary, we can aspire, why not, to the star. From an economic point of view, in the most successful cases a return of 25% has been achieved - it is more normal to expect a return of between 15% and 20%.\n",
    "\n",
    "It is crucial to be aware of current trends in gastronomy. Healthy and sustainable eating, creating awareness of food waste, using customer-focused technology and offering unique and personalized experiences are some of them.\n",
    "It is also necessary to make a very sincere internal analysis, to know what we can do with the resources we have (economic, technical, human, etc.). A good previous study and the knowledge of our target audience, will allow us to define in the most concrete way possible our business concept, its structure, positioning, location and elements of the marketing mix.\n",
    "\n",
    "In this study we will make a first approach to the study needed to set up a vegan restaurant, which are a growing trend in all European capitals.\n"
   ]
  },
  {
   "cell_type": "markdown",
   "metadata": {},
   "source": [
    "<h1>Description of the data</h1>"
   ]
  },
  {
   "cell_type": "markdown",
   "metadata": {},
   "source": [
    "For this work we will first use the data provided by the government of the City of Madrid. Through the following link you can obtain an excel file with all the sections of the city, which we must process to obtain a clean list of the districts of Madrid."
   ]
  },
  {
   "cell_type": "markdown",
   "metadata": {},
   "source": [
    "http://www.madrid.org/iestadis/fijas/clasificaciones/descarga/cobar18.xls"
   ]
  },
  {
   "cell_type": "markdown",
   "metadata": {},
   "source": [
    "Once this first set of data has been processed, a second file is obtained which can be configured for downloading at the town hall site with all the corrdenates of the districts of the capital of Spain."
   ]
  },
  {
   "cell_type": "markdown",
   "metadata": {},
   "source": [
    "https://www.madrid.es/portal/site/munimadrid"
   ]
  },
  {
   "cell_type": "markdown",
   "metadata": {},
   "source": [
    "At this point, combining both sets of data we can already obtain an initial distribution on the map of the neighborhoods. Using Foursquare's API we can then see the distribution of all the vegan places in the city."
   ]
  },
  {
   "cell_type": "markdown",
   "metadata": {},
   "source": [
    "<a><img src = \"https://crimsonvinemarketing.com/wp-content/uploads/2016/04/foursquare-logo.png\" width = 800> </a>"
   ]
  },
  {
   "cell_type": "markdown",
   "metadata": {},
   "source": [
    "With these first data we will make several analyses, but as they are not definitive it will be necessary to incorporate new information.\n",
    "From the local government statistics website a new downloadable one can be configured with the information on the evolution of the population in the last ten years.\n",
    "This will be the final cross to decide the location of our restaurant."
   ]
  },
  {
   "cell_type": "markdown",
   "metadata": {},
   "source": [
    "http://www-2.munimadrid.es/TSE6/control/seleccionDatosBarrio"
   ]
  },
  {
   "cell_type": "code",
   "execution_count": null,
   "metadata": {},
   "outputs": [],
   "source": []
  }
 ],
 "metadata": {
  "kernelspec": {
   "display_name": "Python 3",
   "language": "python",
   "name": "python3"
  },
  "language_info": {
   "codemirror_mode": {
    "name": "ipython",
    "version": 3
   },
   "file_extension": ".py",
   "mimetype": "text/x-python",
   "name": "python",
   "nbconvert_exporter": "python",
   "pygments_lexer": "ipython3",
   "version": "3.8.2"
  }
 },
 "nbformat": 4,
 "nbformat_minor": 4
}
